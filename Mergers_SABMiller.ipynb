{
 "cells": [
  {
   "cell_type": "code",
   "execution_count": null,
   "metadata": {},
   "outputs": [],
   "source": [
    "import pandas as pd\n",
    "#import numpy as np\n",
    "# products_path = \"../../Data/nielsen_extracts/RMS/Master_Files/Latest/products.tsv\"\n",
    "df = pd.read_csv(\"products.tsv\", delimiter = \"\\t\", encoding = \"cp1252\", header = 0)\n",
    "\n",
    "import urllib.request, urllib.parse, urllib.error\n",
    "from bs4 import BeautifulSoup\n",
    "import re\n",
    "html = urllib.request.urlopen('https://en.wikipedia.org/wiki/SABMiller_brands').read()\n",
    "soup = BeautifulSoup(html, 'html.parser')\n",
    "brandsWiki = re.findall('<li>(.*)<', soup.decode())\n",
    "b_ = map(lambda x: x.split(' (')[0].replace('</li>',''), brandsWiki)\n",
    "b_1 = list(b_)\n",
    "b_1.index('<a class=\"mw-redirect\" href=\"/wiki/Viva_(beverage)\" title=\"Viva')\n",
    "b_1 = b_1[:195]\n",
    "for i in range(len(b_1)):\n",
    "    if b_1[i][0] == '<':\n",
    "        #print(b_1[i])\n",
    "        b_1[i] = 0\n",
    "\n",
    "print(b_1.index('Appletiser'))\n",
    "b_2 = b_1[:170]\n",
    "b_2.extend(('Carling Black Label','Castle Lager','Castle Lite','Castle Milk Stout','Castle Free','Miller Genuine Draft','Peroni','Fosters','Chibuku Opaque Beer','Pilsner Urquell','Dreher Sörgyárak','miller'))\n",
    "b_2 = list(map(lambda x: x.split('<')[0], list(filter(lambda a: a != 0, b_2))))\n",
    "b_2 = list(set(b_2))\n",
    "b_2 = map(lambda x:x.upper(), b_2)\n",
    "brands = list(b_2)\n",
    "df['TargetName'] = df['brand_descr'].apply(lambda x: 'SABMiller PLC' if (x in brands) else 'None')\n",
    "dfTarget = df[df['TargetName'] == 'SABMiller PLC']\n",
    "product_groups = list(set(dfTarget['product_group_descr']))\n",
    "groupfreq = {}\n",
    "for group in product_groups:\n",
    "    freq = len(list(set(dfTarget['brand_descr'][dfTarget['product_group_descr'] == group])))\n",
    "    groupfreq[group] = freq\n",
    "    \n",
    "groupfreq_ = {key:val for key, val in groupfreq.items() if val != 0}\n",
    "\n",
    "df_ = pd.DataFrame([groupfreq_]).T.rename(columns={0: '# of products (Target)'}).rename_axis('product group')\n",
    "dfSAB = df_.sort_values('# of products (Target)', ascending=False)\n",
    "dfSAB.loc['source'] = 'https://en.wikipedia.org/wiki/SABMiller_brands'\n",
    "dfSAB.to_csv(\"SAB_draft1.tsv\")"
   ]
  },
  {
   "cell_type": "code",
   "execution_count": null,
   "metadata": {},
   "outputs": [],
   "source": []
  },
  {
   "cell_type": "code",
   "execution_count": null,
   "metadata": {},
   "outputs": [],
   "source": [
    "import pandas as pd\n",
    "import numpy as np\n",
    "\n",
    "# load products data and find the beer entries\n",
    "products_path = \"../../Data/nielsen_extracts/RMS/Master_Files/Latest/products.tsv\"\n",
    "products = pd.read_csv(products_path, delimiter = \"\\t\", encoding = \"cp1252\", header = 0)"
   ]
  },
  {
   "cell_type": "code",
   "execution_count": 21,
   "metadata": {},
   "outputs": [],
   "source": [
    "import urllib.request, urllib.parse, urllib.error\n",
    "from bs4 import BeautifulSoup\n",
    "import re\n",
    "html = urllib.request.urlopen('https://en.wikipedia.org/wiki/SABMiller_brands').read()\n",
    "soup = BeautifulSoup(html, 'html.parser')"
   ]
  },
  {
   "cell_type": "code",
   "execution_count": 28,
   "metadata": {},
   "outputs": [
    {
     "name": "stdout",
     "output_type": "stream",
     "text": [
      "170\n"
     ]
    }
   ],
   "source": [
    "brandsWiki = re.findall('<li>(.*)<', soup.decode())\n",
    "b_ = map(lambda x: x.split(' (')[0].replace('</li>',''), brandsWiki)\n",
    "b_1 = list(b_)\n",
    "b_1.index('<a class=\"mw-redirect\" href=\"/wiki/Viva_(beverage)\" title=\"Viva')\n",
    "b_1 = b_1[:195]\n",
    "for i in range(len(b_1)):\n",
    "    if b_1[i][0] == '<':\n",
    "        #print(b_1[i])\n",
    "        b_1[i] = 0\n",
    "\n",
    "print(b_1.index('Appletiser'))\n",
    "b_2 = b_1[:170]\n",
    "b_2.extend(('Carling Black Label','Castle Lager','Castle Lite','Castle Milk Stout','Castle Free','Miller Genuine Draft','Peroni','Fosters','Chibuku Opaque Beer','Pilsner Urquell','Dreher Sörgyárak','miller'))\n",
    "b_2 = list(map(lambda x: x.split('<')[0], list(filter(lambda a: a != 0, b_2))))\n",
    "b_2 = list(set(b_2))"
   ]
  },
  {
   "cell_type": "code",
   "execution_count": 29,
   "metadata": {},
   "outputs": [
    {
     "name": "stdout",
     "output_type": "stream",
     "text": [
      "158\n",
      "['Singo', 'Castle Milk Stout', 'Dog In The Fog', 'Ndovu Premium Lager', 'Zolotaya Bochka Svetloye', 'X-Cape', 'Chibuku Super', 'Balimi', 'Wührer', 'Cusqueña Red Lager', 'Port-Royal', 'Rhino Lager', 'Suprema', 'Castle Free', 'Club Colombia', '2M', 'Kilimanjaro Lager', 'Nile Special Lager', 'Moya Kaluga', 'Bolingers Lager', 'Hansa Marzen Gold', 'Tianjin', 'Safari Lager', 'Indus Pride', 'Salva Vida', 'Costeñita', 'Ciucaş', 'Yingshi', 'Cusqueña Quinua', 'Timişoreana', 'Cusqueña Malta', 'Tri Bogatyrya Bochkovoye', 'Haywards 5000', 'Huadan Yale', 'Lowen', 'St Louis Lager', 'Golden Pilsner', 'Lion Lager', \"Redd's Dry\", 'Club Shandy', 'Saris Premium', 'Lion Ale', 'Shengquan', 'Green Leaves', 'Club Pilsner', 'Shenyang', 'miller', 'Fosters', 'Pilsen Callao', 'Manica', 'Tri Bogatyrya Svetloye', \"Redd's Strawberry\", 'Stejar', 'Mosi Lager', 'Golden Pilsener', 'Laurentina Preta', 'Costeña', 'Gambrinus Dia with lower sugar content', 'Malta Polar', 'Topvar', 'Gran Riserva', 'Club Premium', 'Pilsen', 'Hansa Pilsener', \"Redd's Apple\", 'Dorada', 'Regia', 'Nile Gold', 'Imperial', 'Castle Lager', 'Grand Malt', 'Smadny mnich Light', 'Vitamalt', 'Regia Extra', 'Cusqueña Dorada', 'Saris Light', 'Kobányai Sör', 'Velkopopovický Kozel Cerny', 'Aguila', 'Maluti Premium Lager', 'Tropical Premium', 'Castle Lite', 'Raiz', 'Peroni', 'Hero Lager', 'St Louis Export', 'Malta Arequipeña', 'San Juan', 'Malta Cusqueña', 'New Three Star', 'Royal Challenge Premium Lager', 'Cristal', 'Redds Vodka &amp; Lemon', \"N'gola\", 'Eagle Lager', \"Redd's Sun\", 'Pony Malta', 'Chibuku Opaque Beer', 'Agua Manantial con gas y sin gas', 'Velkopopovický Kozel Premium', 'Haywards 2000', 'Golden Light', 'Gambrinus', 'Salva-Vida', 'Beta Malt', 'Sip', 'Zero', 'Zambezi Lager', 'Pilsen Trujillo', 'Zolotaya Bochka Klassicheskoye', 'Redds Dry', 'Cusqueña Trigo', 'Backus Ice', 'Arequipeña', 'Zolotaya Bochka Vyderzhannoye', 'Gambrinus Premium', 'Conquer', 'Saris Dark', 'Snow beer 11°P', 'Barena', 'BETAMALT', 'Port Royal', 'Brutal Fruit', 'Stone Strong Lager', 'Pilsener', 'Largo', 'Poker', 'Huadan Dry Beer', 'Raffo', 'Dreher Sörgyárak', 'Legenda', 'Aguila Light', 'Velkopopovický Kozel', 'Royal Challenge', 'Brava', 'Pilsner Urquell', 'Sterling Light Lager', \"Redd's Green Apple\", 'Balboa', 'Velkopopovický Kozel Svetly', 'Laurentina Clara', \"Redd's Premium Cold\", 'Impala Cervejas', 'Sarita', \"Chairman's Extra Strong Beer\", 'Poker Ligera', 'Blue Sword', 'Knock Out', 'Trophy Black', 'Carling Black Label', 'Del Altiplano', 'Pilsener Light', 'Miller Genuine Draft', 'Atlas', 'Aguila Imperial', 'Trophy Lager', 'Whisky Black', 'Tropical Pils']\n"
     ]
    }
   ],
   "source": [
    "print(len(b_2))\n",
    "print(b_2)"
   ]
  },
  {
   "cell_type": "code",
   "execution_count": null,
   "metadata": {},
   "outputs": [],
   "source": [
    "b_2 = map(lambda x:x.upper(), b_2)\n",
    "brands = list(b_2)\n",
    "df['TargetName'] = df['brand_descr'].apply(lambda x: 'SABMiller PLC' if (x in brands) else 'None')\n",
    "dfTarget = df[df['TargetName'] == 'SABMiller PLC']\n",
    "product_groups = list(set(dfTarget['product_group_descr']))\n",
    "groupfreq = {}\n",
    "for group in product_groups:\n",
    "    freq = len(list(set(dfTarget['brand_descr'][dfTarget['product_group_descr'] == group])))\n",
    "    groupfreq[group] = freq\n",
    "\n",
    "print(groupfreq)"
   ]
  },
  {
   "cell_type": "code",
   "execution_count": null,
   "metadata": {},
   "outputs": [],
   "source": []
  },
  {
   "cell_type": "code",
   "execution_count": null,
   "metadata": {},
   "outputs": [],
   "source": [
    "groupfreq_ = {key:val for key, val in groupfreq.items() if val != 0}\n",
    "df_ = pd.DataFrame([groupfreq_]).T.rename(columns={0: '# of products'})\n",
    "dfSAB = df_.sort_values('# of products', ascending=False)\n",
    "dfSAB.to_csv(\"../../GeneratedData/SAB_draft1.tsv\", sep = '\\t', encoding = 'utf-8')"
   ]
  },
  {
   "cell_type": "code",
   "execution_count": null,
   "metadata": {},
   "outputs": [],
   "source": [
    "df[df.brand_descr.isin(brands)]\n",
    "dfTarget[dfTarget['product_group_descr'] == 'BEER']\n",
    "df[df['brand_descr'] == 'CASTLE']\n",
    "df[df['brand_descr'].str.contains('DELTA')]"
   ]
  },
  {
   "cell_type": "code",
   "execution_count": 261,
   "metadata": {},
   "outputs": [
    {
     "data": {
      "text/plain": [
       "191"
      ]
     },
     "execution_count": 261,
     "metadata": {},
     "output_type": "execute_result"
    }
   ],
   "source": [
    "b_1.index('Pilsner Urquell')"
   ]
  },
  {
   "cell_type": "code",
   "execution_count": 252,
   "metadata": {},
   "outputs": [
    {
     "name": "stdout",
     "output_type": "stream",
     "text": [
      "['Brutal Fruit', 'Hansa Marzen Gold', 'Hansa Pilsener', 'Lion Lager', 'Lion Ale', \"Redd's Dry\", \"Redd's Premium Cold\", 'Sarita', 'Sterling Light Lager', 'Haywards 2000', 'Haywards 5000', 'Indus Pride', 'Knock Out', 'Royal Challenge', 'Eagle Lager', 'Castle Lager', 'Golden Pilsner', 'Bolingers Lager', 'Zambezi Lager', 'Lion Lager', 'Chibuku Super', 'Barena', 'Port-Royal', 'Imperial', 'Salva-Vida']\n"
     ]
    }
   ],
   "source": [
    "b_1.index('Salva-Vida')\n",
    "b_2 = b_1[:25]\n",
    "print(b_2)"
   ]
  },
  {
   "cell_type": "code",
   "execution_count": 243,
   "metadata": {},
   "outputs": [
    {
     "data": {
      "text/plain": [
       "30"
      ]
     },
     "execution_count": 243,
     "metadata": {},
     "output_type": "execute_result"
    }
   ],
   "source": [
    "brands_1h = ['Brutal Fruit','Carling Black Label','Castle Lager','Castle Lite','Castle Milk Stout','Castle Free',\n",
    "            'Hansa Marzen Gold','Hansa Pilsener','Lion Lager','Lion Ale','Miller Genuine Draft','Peroni','Redd\\'s Dry',\n",
    "            'Redd\\'s Premium Cold','Sarita','Sterling Light Lager','Fosters','Haywards 2000','Haywards 5000','Indus Pride',\n",
    "            'Knock Out','Royal Challenge','Chibuku Shake Shake','Canarias','Castle','Dreher','Barena','Port-Royal','Imperial',\n",
    "            'Salva-Vida']"
   ]
  }
 ],
 "metadata": {
  "kernelspec": {
   "display_name": "Python 3",
   "language": "python",
   "name": "python3"
  },
  "language_info": {
   "codemirror_mode": {
    "name": "ipython",
    "version": 3
   },
   "file_extension": ".py",
   "mimetype": "text/x-python",
   "name": "python",
   "nbconvert_exporter": "python",
   "pygments_lexer": "ipython3",
   "version": "3.7.4"
  }
 },
 "nbformat": 4,
 "nbformat_minor": 4
}
